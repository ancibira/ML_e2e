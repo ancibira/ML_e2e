{
 "cells": [
  {
   "cell_type": "markdown",
   "metadata": {
    "nteract": {
     "transient": {
      "deleting": false
     }
    }
   },
   "source": [
    "# Training, Registering and Deploying a Linear Regression Model "
   ]
  },
  {
   "cell_type": "markdown",
   "metadata": {
    "nteract": {
     "transient": {
      "deleting": false
     }
    }
   },
   "source": [
    "## 1. Set up the Environment.\n",
    "\n",
    "Import the relevant libraries and authenticate Jupyter with Azure. "
   ]
  },
  {
   "cell_type": "code",
   "execution_count": 1,
   "metadata": {
    "gather": {
     "logged": 1616487299817
    }
   },
   "outputs": [],
   "source": [
    "from azureml.core import Workspace"
   ]
  },
  {
   "cell_type": "markdown",
   "metadata": {
    "nteract": {
     "transient": {
      "deleting": false
     }
    }
   },
   "source": [
    "## 2. Feature Engineering\n",
    "\n",
    "Connect to the dataset we created earlier. Convert this to a pandas dataframe. \n",
    "\n",
    "Inspect the dataset and one-hot-encode the categorical variables. "
   ]
  },
  {
   "cell_type": "code",
   "execution_count": 3,
   "metadata": {
    "collapsed": true,
    "gather": {
     "logged": 1616487308636
    },
    "jupyter": {
     "outputs_hidden": false,
     "source_hidden": false
    },
    "nteract": {
     "transient": {
      "deleting": false
     }
    }
   },
   "outputs": [
    {
     "data": {
      "text/html": [
       "<div>\n",
       "<style scoped>\n",
       "    .dataframe tbody tr th:only-of-type {\n",
       "        vertical-align: middle;\n",
       "    }\n",
       "\n",
       "    .dataframe tbody tr th {\n",
       "        vertical-align: top;\n",
       "    }\n",
       "\n",
       "    .dataframe thead th {\n",
       "        text-align: right;\n",
       "    }\n",
       "</style>\n",
       "<table border=\"1\" class=\"dataframe\">\n",
       "  <thead>\n",
       "    <tr style=\"text-align: right;\">\n",
       "      <th></th>\n",
       "      <th>TITLE</th>\n",
       "      <th>ARTIST</th>\n",
       "      <th>COUNTRY</th>\n",
       "      <th>COMPANY</th>\n",
       "      <th>PRICE</th>\n",
       "      <th>YEAR</th>\n",
       "      <th>COUNTRY_FULL</th>\n",
       "    </tr>\n",
       "  </thead>\n",
       "  <tbody>\n",
       "    <tr>\n",
       "      <th>0</th>\n",
       "      <td>Empire Burlesque</td>\n",
       "      <td>Bob Dylan</td>\n",
       "      <td>USA</td>\n",
       "      <td>Columbia</td>\n",
       "      <td>10.9</td>\n",
       "      <td>1985</td>\n",
       "      <td>United States of America</td>\n",
       "    </tr>\n",
       "    <tr>\n",
       "      <th>1</th>\n",
       "      <td>Hide your heart</td>\n",
       "      <td>Bonnie Tyler</td>\n",
       "      <td>UK</td>\n",
       "      <td>CBS Records</td>\n",
       "      <td>9.9</td>\n",
       "      <td>1988</td>\n",
       "      <td>United Kingodm</td>\n",
       "    </tr>\n",
       "    <tr>\n",
       "      <th>2</th>\n",
       "      <td>Greatest Hits</td>\n",
       "      <td>Dolly Parton</td>\n",
       "      <td>USA</td>\n",
       "      <td>RCA</td>\n",
       "      <td>9.9</td>\n",
       "      <td>1982</td>\n",
       "      <td>United States of America</td>\n",
       "    </tr>\n",
       "    <tr>\n",
       "      <th>3</th>\n",
       "      <td>Still got the blues</td>\n",
       "      <td>Gary Moore</td>\n",
       "      <td>UK</td>\n",
       "      <td>Virgin records</td>\n",
       "      <td>10.2</td>\n",
       "      <td>1990</td>\n",
       "      <td>United Kingodm</td>\n",
       "    </tr>\n",
       "    <tr>\n",
       "      <th>4</th>\n",
       "      <td>Eros</td>\n",
       "      <td>Eros Ramazzotti</td>\n",
       "      <td>EU</td>\n",
       "      <td>BMG</td>\n",
       "      <td>9.9</td>\n",
       "      <td>1997</td>\n",
       "      <td>European Union</td>\n",
       "    </tr>\n",
       "    <tr>\n",
       "      <th>5</th>\n",
       "      <td>One night only</td>\n",
       "      <td>Bee Gees</td>\n",
       "      <td>UK</td>\n",
       "      <td>Polydor</td>\n",
       "      <td>10.9</td>\n",
       "      <td>1998</td>\n",
       "      <td>United Kingodm</td>\n",
       "    </tr>\n",
       "    <tr>\n",
       "      <th>6</th>\n",
       "      <td>Sylvias Mother</td>\n",
       "      <td>Dr.Hook</td>\n",
       "      <td>UK</td>\n",
       "      <td>CBS</td>\n",
       "      <td>8.1</td>\n",
       "      <td>1973</td>\n",
       "      <td>United Kingodm</td>\n",
       "    </tr>\n",
       "    <tr>\n",
       "      <th>7</th>\n",
       "      <td>Maggie May</td>\n",
       "      <td>Rod Stewart</td>\n",
       "      <td>UK</td>\n",
       "      <td>Pickwick</td>\n",
       "      <td>8.5</td>\n",
       "      <td>1990</td>\n",
       "      <td>United Kingodm</td>\n",
       "    </tr>\n",
       "    <tr>\n",
       "      <th>8</th>\n",
       "      <td>Romanza</td>\n",
       "      <td>Andrea Bocelli</td>\n",
       "      <td>EU</td>\n",
       "      <td>Polydor</td>\n",
       "      <td>10.8</td>\n",
       "      <td>1996</td>\n",
       "      <td>European Union</td>\n",
       "    </tr>\n",
       "    <tr>\n",
       "      <th>9</th>\n",
       "      <td>When a man loves a woman</td>\n",
       "      <td>Percy Sledge</td>\n",
       "      <td>USA</td>\n",
       "      <td>Atlantic</td>\n",
       "      <td>8.7</td>\n",
       "      <td>1987</td>\n",
       "      <td>United States of America</td>\n",
       "    </tr>\n",
       "    <tr>\n",
       "      <th>10</th>\n",
       "      <td>Black angel</td>\n",
       "      <td>Savage Rose</td>\n",
       "      <td>EU</td>\n",
       "      <td>Mega</td>\n",
       "      <td>10.9</td>\n",
       "      <td>1995</td>\n",
       "      <td>European Union</td>\n",
       "    </tr>\n",
       "    <tr>\n",
       "      <th>11</th>\n",
       "      <td>1999 Grammy Nominees</td>\n",
       "      <td>Many</td>\n",
       "      <td>USA</td>\n",
       "      <td>Grammy</td>\n",
       "      <td>10.2</td>\n",
       "      <td>1999</td>\n",
       "      <td>United States of America</td>\n",
       "    </tr>\n",
       "    <tr>\n",
       "      <th>12</th>\n",
       "      <td>For the good times</td>\n",
       "      <td>Kenny Rogers</td>\n",
       "      <td>UK</td>\n",
       "      <td>Mucik Master</td>\n",
       "      <td>8.7</td>\n",
       "      <td>1995</td>\n",
       "      <td>United Kingodm</td>\n",
       "    </tr>\n",
       "    <tr>\n",
       "      <th>13</th>\n",
       "      <td>Big Willie style</td>\n",
       "      <td>Will Smith</td>\n",
       "      <td>USA</td>\n",
       "      <td>Columbia</td>\n",
       "      <td>9.9</td>\n",
       "      <td>1997</td>\n",
       "      <td>United States of America</td>\n",
       "    </tr>\n",
       "    <tr>\n",
       "      <th>14</th>\n",
       "      <td>Tupelo Honey</td>\n",
       "      <td>Van Morrison</td>\n",
       "      <td>UK</td>\n",
       "      <td>Polydor</td>\n",
       "      <td>8.2</td>\n",
       "      <td>1971</td>\n",
       "      <td>United Kingodm</td>\n",
       "    </tr>\n",
       "    <tr>\n",
       "      <th>15</th>\n",
       "      <td>Soulsville</td>\n",
       "      <td>Jorn Hoel</td>\n",
       "      <td>Norway</td>\n",
       "      <td>WEA</td>\n",
       "      <td>7.9</td>\n",
       "      <td>1996</td>\n",
       "      <td>European Union</td>\n",
       "    </tr>\n",
       "    <tr>\n",
       "      <th>16</th>\n",
       "      <td>The very best of</td>\n",
       "      <td>Cat Stevens</td>\n",
       "      <td>UK</td>\n",
       "      <td>Island</td>\n",
       "      <td>8.9</td>\n",
       "      <td>1990</td>\n",
       "      <td>United Kingodm</td>\n",
       "    </tr>\n",
       "    <tr>\n",
       "      <th>17</th>\n",
       "      <td>Stop</td>\n",
       "      <td>Sam Brown</td>\n",
       "      <td>UK</td>\n",
       "      <td>A and M</td>\n",
       "      <td>8.9</td>\n",
       "      <td>1988</td>\n",
       "      <td>United Kingodm</td>\n",
       "    </tr>\n",
       "    <tr>\n",
       "      <th>18</th>\n",
       "      <td>Bridge of Spies</td>\n",
       "      <td>T'Pau</td>\n",
       "      <td>UK</td>\n",
       "      <td>Siren</td>\n",
       "      <td>7.9</td>\n",
       "      <td>1987</td>\n",
       "      <td>United Kingodm</td>\n",
       "    </tr>\n",
       "    <tr>\n",
       "      <th>19</th>\n",
       "      <td>Private Dancer</td>\n",
       "      <td>Tina Turner</td>\n",
       "      <td>UK</td>\n",
       "      <td>Capitol</td>\n",
       "      <td>8.9</td>\n",
       "      <td>1983</td>\n",
       "      <td>United Kingodm</td>\n",
       "    </tr>\n",
       "    <tr>\n",
       "      <th>20</th>\n",
       "      <td>Midt om natten</td>\n",
       "      <td>Kim Larsen</td>\n",
       "      <td>EU</td>\n",
       "      <td>Medley</td>\n",
       "      <td>7.8</td>\n",
       "      <td>1983</td>\n",
       "      <td>European Union</td>\n",
       "    </tr>\n",
       "    <tr>\n",
       "      <th>21</th>\n",
       "      <td>Pavarotti Gala Concert</td>\n",
       "      <td>Luciano Pavarotti</td>\n",
       "      <td>UK</td>\n",
       "      <td>DECCA</td>\n",
       "      <td>9.9</td>\n",
       "      <td>1991</td>\n",
       "      <td>United Kingodm</td>\n",
       "    </tr>\n",
       "    <tr>\n",
       "      <th>22</th>\n",
       "      <td>The dock of the bay</td>\n",
       "      <td>Otis Redding</td>\n",
       "      <td>USA</td>\n",
       "      <td>Stax Records</td>\n",
       "      <td>7.9</td>\n",
       "      <td>1968</td>\n",
       "      <td>United States of America</td>\n",
       "    </tr>\n",
       "    <tr>\n",
       "      <th>23</th>\n",
       "      <td>Picture book</td>\n",
       "      <td>Simply Red</td>\n",
       "      <td>EU</td>\n",
       "      <td>Elektra</td>\n",
       "      <td>7.2</td>\n",
       "      <td>1985</td>\n",
       "      <td>European Union</td>\n",
       "    </tr>\n",
       "    <tr>\n",
       "      <th>24</th>\n",
       "      <td>Red</td>\n",
       "      <td>The Communards</td>\n",
       "      <td>UK</td>\n",
       "      <td>London</td>\n",
       "      <td>7.8</td>\n",
       "      <td>1987</td>\n",
       "      <td>United Kingodm</td>\n",
       "    </tr>\n",
       "    <tr>\n",
       "      <th>25</th>\n",
       "      <td>Unchain my heart</td>\n",
       "      <td>Joe Cocker</td>\n",
       "      <td>USA</td>\n",
       "      <td>EMI</td>\n",
       "      <td>8.2</td>\n",
       "      <td>1987</td>\n",
       "      <td>United States of America</td>\n",
       "    </tr>\n",
       "  </tbody>\n",
       "</table>\n",
       "</div>"
      ],
      "text/plain": [
       "                       TITLE             ARTIST COUNTRY         COMPANY  \\\n",
       "0           Empire Burlesque          Bob Dylan     USA        Columbia   \n",
       "1            Hide your heart       Bonnie Tyler      UK     CBS Records   \n",
       "2              Greatest Hits       Dolly Parton     USA             RCA   \n",
       "3        Still got the blues         Gary Moore      UK  Virgin records   \n",
       "4                       Eros    Eros Ramazzotti      EU             BMG   \n",
       "5             One night only           Bee Gees      UK         Polydor   \n",
       "6             Sylvias Mother            Dr.Hook      UK             CBS   \n",
       "7                 Maggie May        Rod Stewart      UK        Pickwick   \n",
       "8                    Romanza     Andrea Bocelli      EU         Polydor   \n",
       "9   When a man loves a woman       Percy Sledge     USA        Atlantic   \n",
       "10               Black angel        Savage Rose      EU            Mega   \n",
       "11      1999 Grammy Nominees               Many     USA          Grammy   \n",
       "12        For the good times       Kenny Rogers      UK    Mucik Master   \n",
       "13          Big Willie style         Will Smith     USA        Columbia   \n",
       "14              Tupelo Honey       Van Morrison      UK         Polydor   \n",
       "15                Soulsville          Jorn Hoel  Norway             WEA   \n",
       "16          The very best of        Cat Stevens      UK          Island   \n",
       "17                      Stop          Sam Brown      UK         A and M   \n",
       "18           Bridge of Spies              T'Pau      UK           Siren   \n",
       "19            Private Dancer        Tina Turner      UK         Capitol   \n",
       "20            Midt om natten         Kim Larsen      EU          Medley   \n",
       "21    Pavarotti Gala Concert  Luciano Pavarotti      UK           DECCA   \n",
       "22       The dock of the bay       Otis Redding     USA    Stax Records   \n",
       "23              Picture book         Simply Red      EU         Elektra   \n",
       "24                       Red     The Communards      UK          London   \n",
       "25          Unchain my heart         Joe Cocker     USA             EMI   \n",
       "\n",
       "    PRICE  YEAR              COUNTRY_FULL  \n",
       "0    10.9  1985  United States of America  \n",
       "1     9.9  1988            United Kingodm  \n",
       "2     9.9  1982  United States of America  \n",
       "3    10.2  1990            United Kingodm  \n",
       "4     9.9  1997            European Union  \n",
       "5    10.9  1998            United Kingodm  \n",
       "6     8.1  1973            United Kingodm  \n",
       "7     8.5  1990            United Kingodm  \n",
       "8    10.8  1996            European Union  \n",
       "9     8.7  1987  United States of America  \n",
       "10   10.9  1995            European Union  \n",
       "11   10.2  1999  United States of America  \n",
       "12    8.7  1995            United Kingodm  \n",
       "13    9.9  1997  United States of America  \n",
       "14    8.2  1971            United Kingodm  \n",
       "15    7.9  1996            European Union  \n",
       "16    8.9  1990            United Kingodm  \n",
       "17    8.9  1988            United Kingodm  \n",
       "18    7.9  1987            United Kingodm  \n",
       "19    8.9  1983            United Kingodm  \n",
       "20    7.8  1983            European Union  \n",
       "21    9.9  1991            United Kingodm  \n",
       "22    7.9  1968  United States of America  \n",
       "23    7.2  1985            European Union  \n",
       "24    7.8  1987            United Kingodm  \n",
       "25    8.2  1987  United States of America  "
      ]
     },
     "execution_count": 3,
     "metadata": {},
     "output_type": "execute_result"
    }
   ],
   "source": [
    "# azureml-core of version 1.0.72 or higher is required\n",
    "# azureml-dataprep[pandas] of version 1.1.34 or higher is required\n",
    "from azureml.core import Workspace, Dataset\n",
    "\n",
    "subscription_id = 'xxx'\n",
    "resource_group = 'yyy'\n",
    "workspace_name = 'zzz'\n",
    "\n",
    "workspace = Workspace(subscription_id, resource_group, workspace_name)\n",
    "\n",
    "dataset = Dataset.get_by_name(workspace, name='parquet_CDS')\n",
    "dataset.to_pandas_dataframe()"
   ]
  },
  {
   "cell_type": "code",
   "execution_count": 73,
   "metadata": {
    "collapsed": true,
    "gather": {
     "logged": 1616556393932
    },
    "jupyter": {
     "outputs_hidden": false,
     "source_hidden": false
    },
    "nteract": {
     "transient": {
      "deleting": false
     }
    }
   },
   "outputs": [
    {
     "data": {
      "text/plain": [
       "<26x42 sparse matrix of type '<class 'numpy.float64'>'\n",
       "\twith 78 stored elements in Compressed Sparse Row format>"
      ]
     },
     "execution_count": 73,
     "metadata": {},
     "output_type": "execute_result"
    }
   ],
   "source": [
    "#one hot encoding\n",
    "\n",
    "from sklearn.preprocessing import OneHotEncoder\n",
    "enc = OneHotEncoder(handle_unknown='ignore')\n",
    "\n",
    "df = dataset.to_pandas_dataframe()\n",
    "x_col = ['COUNTRY', 'COMPANY', 'YEAR']\n",
    "y_col = ['PRICE']\n",
    "x_df = df.loc[:, x_col]\n",
    "y_df = df.loc[:, y_col]\n",
    "\n",
    "dfx_enc = enc.fit_transform(x_df)\n",
    "dfx_enc"
   ]
  },
  {
   "cell_type": "markdown",
   "metadata": {
    "nteract": {
     "transient": {
      "deleting": false
     }
    }
   },
   "source": [
    "## 3. Train and Test the Model\n",
    "\n",
    "Use scikitlearn to train and test a linear regression model. "
   ]
  },
  {
   "cell_type": "code",
   "execution_count": 43,
   "metadata": {
    "collapsed": true,
    "gather": {
     "logged": 1616491154283
    },
    "jupyter": {
     "outputs_hidden": false,
     "source_hidden": false
    },
    "nteract": {
     "transient": {
      "deleting": false
     }
    }
   },
   "outputs": [
    {
     "name": "stdout",
     "output_type": "stream",
     "text": [
      "Accuracy of Linear Regression Model on training set: 1.00\n",
      "Accuracy of Linear Regression Model on test set: -0.56\n"
     ]
    }
   ],
   "source": [
    "import os\n",
    "\n",
    "from azureml.core import Dataset, Run\n",
    "from sklearn.model_selection import train_test_split\n",
    "#from sklearn.tree import DecisionTreeClassifier\n",
    "from sklearn.linear_model import LinearRegression\n",
    "# sklearn.externals.joblib is removed in 0.23\n",
    "from sklearn import __version__ as sklearnver\n",
    "from packaging.version import Version\n",
    "if Version(sklearnver) < Version(\"0.23.0\"):\n",
    "    from sklearn.externals import joblib\n",
    "else:\n",
    "    import joblib\n",
    "\n",
    "run = Run.get_context()\n",
    "\n",
    "#dividing X,y into train and test data\n",
    "x_train, x_test, y_train, y_test = train_test_split(dfx_enc, y_df, test_size=0.2, random_state=223)\n",
    "\n",
    "data = {'train': {'X': x_train, 'y': y_train},\n",
    "\n",
    "        'test': {'X': x_test, 'y': y_test}}\n",
    "\n",
    "clf = LinearRegression().fit(data['train']['X'], data['train']['y'])\n",
    "model_file_name = 'linear_regression.pkl'\n",
    "\n",
    "print('Accuracy of Linear Regression Model on training set: {:.2f}'.format(clf.score(x_train, y_train)))\n",
    "print('Accuracy of Linear Regression Model on test set: {:.2f}'.format(clf.score(x_test, y_test)))\n",
    "\n",
    "os.makedirs('./outputs', exist_ok=True)\n",
    "with open(model_file_name, 'wb') as file:\n",
    "    joblib.dump(value=clf, filename='outputs/' + model_file_name)"
   ]
  },
  {
   "cell_type": "markdown",
   "metadata": {
    "nteract": {
     "transient": {
      "deleting": false
     }
    }
   },
   "source": [
    "## 4. Register the Model\n",
    "\n",
    "### 4.1 Create the environment file\n",
    "Define a conda environment YAML file with your training script dependencies and create an Azure ML environment."
   ]
  },
  {
   "cell_type": "code",
   "execution_count": 25,
   "metadata": {
    "collapsed": true,
    "jupyter": {
     "outputs_hidden": false,
     "source_hidden": false
    },
    "nteract": {
     "transient": {
      "deleting": false
     }
    }
   },
   "outputs": [
    {
     "name": "stdout",
     "output_type": "stream",
     "text": [
      "Writing service_files/conda_dependencies.yml\n"
     ]
    }
   ],
   "source": [
    "%%writefile service_files/conda_dependencies.yml\n",
    "\n",
    "dependencies:\n",
    "- python=3.6.2\n",
    "- scikit-learn\n",
    "- pip:\n",
    "  - azureml-defaults\n",
    "  - packaging"
   ]
  },
  {
   "cell_type": "code",
   "execution_count": 27,
   "metadata": {
    "collapsed": true,
    "gather": {
     "logged": 1616488598441
    },
    "jupyter": {
     "outputs_hidden": false,
     "source_hidden": false
    },
    "nteract": {
     "transient": {
      "deleting": false
     }
    }
   },
   "outputs": [],
   "source": [
    "from azureml.core import Environment\n",
    "\n",
    "sklearn_env = Environment.from_conda_specification(name = 'sklearn-env', file_path = './service_files/conda_dependencies.yml')"
   ]
  },
  {
   "cell_type": "markdown",
   "metadata": {
    "nteract": {
     "transient": {
      "deleting": false
     }
    }
   },
   "source": [
    "### 4.2 Register the Trained Model\n",
    "After successfully training a model, you must register it in your Azure Machine Learning workspace. \n",
    "\n",
    "To register a model from a local file, you can use the register method of the Model object as shown here:"
   ]
  },
  {
   "cell_type": "code",
   "execution_count": 44,
   "metadata": {
    "collapsed": true,
    "gather": {
     "logged": 1616491200959
    },
    "jupyter": {
     "outputs_hidden": false,
     "source_hidden": false
    },
    "nteract": {
     "transient": {
      "deleting": false
     }
    }
   },
   "outputs": [
    {
     "name": "stdout",
     "output_type": "stream",
     "text": [
      "Registering model linear_regression\n"
     ]
    }
   ],
   "source": [
    "from azureml.core import Model\n",
    "\n",
    "linear_regression_model = Model.register(workspace=ws,\n",
    "                       model_name='linear_regression',\n",
    "                       model_path='outputs/linear_regression.pkl', # local path\n",
    "                       description='A linear model')"
   ]
  },
  {
   "cell_type": "markdown",
   "metadata": {
    "nteract": {
     "transient": {
      "deleting": false
     }
    }
   },
   "source": [
    "### 4.3 Define an Inference Configuration\n",
    "The model will be deployed as a service that consist of:\n",
    "\n",
    "A script to load the model and return predictions for submitted data.\n",
    "An environment in which the script will be run.\n",
    "You must therefore define the script and environment for the service.\n",
    "\n",
    "#### Creating an entry script\n",
    "Create the entry script (sometimes referred to as the scoring script) for the service as a Python (.py) file. It must include two functions:\n",
    "\n",
    "init(): Called when the service is initialized.  \n",
    "run(raw_data): Called when new data is submitted to the service.  \n",
    "\n",
    "Typically, you use the init function to load the model from the model registry, and use the run function to generate predictions from the input data. The following example script shows this pattern:"
   ]
  },
  {
   "cell_type": "code",
   "execution_count": 9,
   "metadata": {
    "collapsed": true,
    "gather": {
     "logged": 1616488149141
    },
    "jupyter": {
     "outputs_hidden": false,
     "source_hidden": false
    },
    "nteract": {
     "transient": {
      "deleting": false
     }
    }
   },
   "outputs": [],
   "source": [
    "# this is put in the score.py script\n",
    "\n",
    "import json\n",
    "import joblib\n",
    "import numpy as np\n",
    "from azureml.core.model import Model\n",
    "\n",
    "# Called when the service is loaded\n",
    "def init():\n",
    "    global model\n",
    "    # Get the path to the registered model file and load it\n",
    "    model_path = Model.get_model_path('linear_regression')\n",
    "    model = joblib.load(model_path)\n",
    "\n",
    "# Called when a request is received\n",
    "def run(raw_data):\n",
    "    # Get the input data as a numpy array\n",
    "    data = np.array(json.loads(raw_data)['data'])\n",
    "    # Get a prediction from the model\n",
    "    predictions = model.predict(data)\n",
    "    # Return the predictions as any JSON serializable format\n",
    "    return predictions.tolist()"
   ]
  },
  {
   "cell_type": "markdown",
   "metadata": {
    "nteract": {
     "transient": {
      "deleting": false
     }
    }
   },
   "source": [
    "#### Combining the script and environment in an InferenceConfig\n",
    "After creating the entry script and environment configuration file, you can combine them in an InferenceConfig for the service like this:"
   ]
  },
  {
   "cell_type": "code",
   "execution_count": 42,
   "metadata": {
    "collapsed": true,
    "gather": {
     "logged": 1616491101240
    },
    "jupyter": {
     "outputs_hidden": false,
     "source_hidden": false
    },
    "nteract": {
     "transient": {
      "deleting": false
     }
    }
   },
   "outputs": [],
   "source": [
    "from azureml.core.model import InferenceConfig\n",
    "\n",
    "lr_inference_config = InferenceConfig(runtime= \"python\",\n",
    "                                              source_directory = 'service_files',\n",
    "                                              entry_script=\"score.py\",\n",
    "                                              conda_file=\"conda_dependencies.yml\")"
   ]
  },
  {
   "cell_type": "markdown",
   "metadata": {
    "nteract": {
     "transient": {
      "deleting": false
     }
    }
   },
   "source": [
    "#### Define a deployment configuration\n",
    "Now that you have the entry script and environment, you need to configure the compute to which the service will be deployed. If you are deploying to an AKS cluster, you must create the cluster and a compute target for it before deploying:"
   ]
  },
  {
   "cell_type": "code",
   "execution_count": 31,
   "metadata": {
    "collapsed": true,
    "gather": {
     "logged": 1616489351302
    },
    "jupyter": {
     "outputs_hidden": false,
     "source_hidden": false
    },
    "nteract": {
     "transient": {
      "deleting": false
     }
    }
   },
   "outputs": [
    {
     "name": "stdout",
     "output_type": "stream",
     "text": [
      "Creating...........................................................................................\n",
      "SucceededProvisioning operation finished, operation \"Succeeded\"\n"
     ]
    }
   ],
   "source": [
    "from azureml.core.compute import ComputeTarget, AksCompute\n",
    "\n",
    "cluster_name = 'aks-cluster'\n",
    "compute_config = AksCompute.provisioning_configuration(location='australiaeast')\n",
    "production_cluster = ComputeTarget.create(ws, cluster_name, compute_config)\n",
    "production_cluster.wait_for_completion(show_output=True)"
   ]
  },
  {
   "cell_type": "markdown",
   "metadata": {
    "nteract": {
     "transient": {
      "deleting": false
     }
    }
   },
   "source": [
    "With the compute target created, you can now define the deployment configuration, which sets the target-specific compute specification for the containerized deployment:"
   ]
  },
  {
   "cell_type": "code",
   "execution_count": 33,
   "metadata": {
    "collapsed": true,
    "gather": {
     "logged": 1616489370761
    },
    "jupyter": {
     "outputs_hidden": false,
     "source_hidden": false
    },
    "nteract": {
     "transient": {
      "deleting": false
     }
    }
   },
   "outputs": [],
   "source": [
    "from azureml.core.webservice import AksWebservice\n",
    "\n",
    "lr_deploy_config = AksWebservice.deploy_configuration(cpu_cores = 1,\n",
    "                                                              memory_gb = 1)"
   ]
  },
  {
   "cell_type": "markdown",
   "metadata": {
    "nteract": {
     "transient": {
      "deleting": false
     }
    }
   },
   "source": [
    "#### Deploy the model\n",
    "After all of the configuration is prepared, you can deploy the model. The easiest way to do this is to call the deploy method of the Model class, like this:"
   ]
  },
  {
   "cell_type": "code",
   "execution_count": 45,
   "metadata": {
    "collapsed": true,
    "gather": {
     "logged": 1616491295878
    },
    "jupyter": {
     "outputs_hidden": false,
     "source_hidden": false
    },
    "nteract": {
     "transient": {
      "deleting": false
     }
    }
   },
   "outputs": [
    {
     "name": "stdout",
     "output_type": "stream",
     "text": [
      "Tips: You can try get_logs(): https://aka.ms/debugimage#dockerlog or local deployment: https://aka.ms/debugimage#debug-locally to debug if deployment takes longer than 10 minutes.\n",
      "Running............\n",
      "Succeeded\n",
      "AKS service creation operation finished, operation \"Succeeded\"\n"
     ]
    }
   ],
   "source": [
    "from azureml.core.model import Model\n",
    "\n",
    "model = ws.models['linear_regression']\n",
    "service = Model.deploy(workspace=ws,\n",
    "                       name = 'lr-service',\n",
    "                       models = [model],\n",
    "                       inference_config = lr_inference_config,\n",
    "                       deployment_config = lr_deploy_config,\n",
    "                       deployment_target = production_cluster)\n",
    "service.wait_for_deployment(show_output = True)"
   ]
  },
  {
   "cell_type": "markdown",
   "metadata": {
    "nteract": {
     "transient": {
      "deleting": false
     }
    }
   },
   "source": [
    "## 5. Consuming a real-time inferencing service\n",
    "After deploying a real-time service, you can consume it from client applications to predict labels for new data cases.\n",
    "\n",
    "Create a new dataset to pass to the model. Perform one-hot-encoding and serialise to JSON."
   ]
  },
  {
   "cell_type": "code",
   "execution_count": 75,
   "metadata": {
    "collapsed": true,
    "gather": {
     "logged": 1616556445820
    },
    "jupyter": {
     "outputs_hidden": false,
     "source_hidden": false
    },
    "nteract": {
     "transient": {
      "deleting": false
     }
    }
   },
   "outputs": [
    {
     "data": {
      "text/plain": [
       "array([[0., 0., 0., 1., 0., 0., 0., 0., 0., 0., 1., 0., 0., 0., 0., 0.,\n",
       "        0., 0., 0., 0., 0., 0., 0., 0., 0., 0., 0., 0., 0., 0., 0., 0.,\n",
       "        0., 0., 0., 0., 0., 0., 0., 0., 0., 0.]])"
      ]
     },
     "execution_count": 75,
     "metadata": {},
     "output_type": "execute_result"
    }
   ],
   "source": [
    "import pandas as pd\n",
    "import json\n",
    "\n",
    "# An array of new data cases\n",
    "x_new = {'COUNTRY': ['USA'],\n",
    "         'COMPANY': ['Columbia'],\n",
    "         'YEAR': ['1984']}\n",
    "\n",
    "        \n",
    "dfx_new = pd.DataFrame(x_new, columns = ['COUNTRY', 'COMPANY', 'YEAR'])\n",
    "\n",
    "#use the same encoding that was used previously\n",
    "xnew_enc = enc.transform(dfx_new).toarray()\n",
    "xnew_enc"
   ]
  },
  {
   "cell_type": "code",
   "execution_count": 87,
   "metadata": {
    "collapsed": true,
    "gather": {
     "logged": 1616556816124
    },
    "jupyter": {
     "outputs_hidden": false,
     "source_hidden": false
    },
    "nteract": {
     "transient": {
      "deleting": false
     }
    }
   },
   "outputs": [
    {
     "name": "stdout",
     "output_type": "stream",
     "text": [
      "Printing JSON serialized NumPy array\n",
      "{\"data\": [[0.0, 0.0, 0.0, 1.0, 0.0, 0.0, 0.0, 0.0, 0.0, 0.0, 1.0, 0.0, 0.0, 0.0, 0.0, 0.0, 0.0, 0.0, 0.0, 0.0, 0.0, 0.0, 0.0, 0.0, 0.0, 0.0, 0.0, 0.0, 0.0, 0.0, 0.0, 0.0, 0.0, 0.0, 0.0, 0.0, 0.0, 0.0, 0.0, 0.0, 0.0, 0.0]]}\n"
     ]
    }
   ],
   "source": [
    "import json\n",
    "from json import JSONEncoder\n",
    "import numpy\n",
    "\n",
    "class NumpyArrayEncoder(JSONEncoder):\n",
    "    def default(self, obj):\n",
    "        if isinstance(obj, numpy.ndarray):\n",
    "            return obj.tolist()\n",
    "        return JSONEncoder.default(self, obj)\n",
    "\n",
    "# Serialization\n",
    "numpyData = {\"data\": xnew_enc}\n",
    "encodedNumpyData = json.dumps(numpyData, cls=NumpyArrayEncoder)  # use dump() to write array into file\n",
    "print(\"Printing JSON serialized NumPy array\")\n",
    "print(encodedNumpyData)\n"
   ]
  },
  {
   "cell_type": "markdown",
   "metadata": {
    "nteract": {
     "transient": {
      "deleting": false
     }
    }
   },
   "source": [
    "### 5.1 Using the Azure Machine Learning SDK\n",
    "For testing, you can use the Azure Machine Learning SDK to call a web service through the run method of a WebService object that references the deployed service. Typically, you send data to the run method in JSON format.\n"
   ]
  },
  {
   "cell_type": "code",
   "execution_count": 90,
   "metadata": {
    "collapsed": true,
    "gather": {
     "logged": 1616556953178
    },
    "jupyter": {
     "outputs_hidden": false,
     "source_hidden": false
    },
    "nteract": {
     "transient": {
      "deleting": false
     }
    }
   },
   "outputs": [
    {
     "name": "stdout",
     "output_type": "stream",
     "text": [
      "Price prediction:\n"
     ]
    },
    {
     "data": {
      "text/plain": [
       "[[10.124019709059656]]"
      ]
     },
     "execution_count": 90,
     "metadata": {},
     "output_type": "execute_result"
    }
   ],
   "source": [
    "# Call the web service, passing the input data\n",
    "response = service.run(input_data = encodedNumpyData)\n",
    "print('Price prediction:')\n",
    "response"
   ]
  },
  {
   "cell_type": "markdown",
   "metadata": {
    "nteract": {
     "transient": {
      "deleting": false
     }
    }
   },
   "source": [
    "### 5.2 Using a REST endpoint\n",
    "In production, most client applications will not include the Azure Machine Learning SDK, and will consume the service through its REST interface. You can determine the endpoint of a deployed service in Azure machine Learning studio, or by retrieving the scoring_uri property of the Webservice object in the SDK.\n",
    "\n",
    "With the endpoint known, you can use an HTTP POST request with JSON data to call the service. The following example shows how to do this using Python:"
   ]
  },
  {
   "cell_type": "code",
   "execution_count": 112,
   "metadata": {
    "collapsed": true,
    "gather": {
     "logged": 1616558399716
    },
    "jupyter": {
     "outputs_hidden": false,
     "source_hidden": false
    },
    "nteract": {
     "transient": {
      "deleting": false
     }
    }
   },
   "outputs": [
    {
     "name": "stdout",
     "output_type": "stream",
     "text": [
      "http://104.209.92.63:80/api/v1/service/lr-service/score\n",
      "Price prediction:\n"
     ]
    },
    {
     "data": {
      "text/plain": [
       "[[10.124019709059656]]"
      ]
     },
     "execution_count": 112,
     "metadata": {},
     "output_type": "execute_result"
    }
   ],
   "source": [
    "import requests\n",
    "\n",
    "endpoint = service.scoring_uri\n",
    "print(endpoint)\n",
    "\n",
    "primary_key, secondary_key = service.get_keys()\n",
    "\n",
    "# Set the content type in the request headers\n",
    "request_headers = { \"Content-Type\":\"application/json\",\n",
    "                    \"Authorization\":\"Bearer \" + primary_key }\n",
    "\n",
    "# Call the service\n",
    "response = requests.post(url = endpoint,\n",
    "                         data = encodedNumpyData,\n",
    "                         headers = request_headers)\n",
    "\n",
    "# Get the predictions from the JSON response\n",
    "predictions = response.json()\n",
    "print('Price prediction:')\n",
    "predictions\n",
    "\n"
   ]
  }
 ],
 "metadata": {
  "kernel_info": {
   "name": "python3-azureml"
  },
  "kernelspec": {
   "display_name": "Python 3",
   "language": "python",
   "name": "python3"
  },
  "language_info": {
   "codemirror_mode": {
    "name": "ipython",
    "version": 3
   },
   "file_extension": ".py",
   "mimetype": "text/x-python",
   "name": "python",
   "nbconvert_exporter": "python",
   "pygments_lexer": "ipython3",
   "version": "3.7.9"
  },
  "microsoft": {
   "host": {
    "AzureML": {
     "notebookHasBeenCompleted": true
    }
   }
  },
  "nteract": {
   "version": "nteract-front-end@1.0.0"
  }
 },
 "nbformat": 4,
 "nbformat_minor": 2
}
